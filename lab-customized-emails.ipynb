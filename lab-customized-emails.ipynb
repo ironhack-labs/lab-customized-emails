{
 "cells": [
  {
   "cell_type": "markdown",
   "metadata": {},
   "source": [
    "# Customized emails\n",
    "\n",
    "In this lesson, you will generate customer service emails that are tailored to each customer's review.\n",
    "\n",
    "## Setup"
   ]
  },
  {
   "cell_type": "code",
   "execution_count": 1,
   "metadata": {
    "tags": []
   },
   "outputs": [],
   "source": [
    "from openai import OpenAI\n",
    "import os\n",
    "\n",
    "from dotenv import load_dotenv, find_dotenv\n",
    "_ = load_dotenv(find_dotenv()) # read local .env file\n",
    "\n",
    "OPENAI_API_KEY  = os.getenv('your_api_key')"
   ]
  },
  {
   "cell_type": "code",
   "execution_count": 2,
   "metadata": {
    "tags": []
   },
   "outputs": [],
   "source": [
    "client = OpenAI(\n",
    "    # This is the default and can be omitted\n",
    "    api_key=OPENAI_API_KEY,\n",
    ")\n",
    "\n",
    "def get_completion(prompt, model=\"gpt-3.5-turbo\", temperature=0): \n",
    "    messages = [{\"role\": \"user\", \"content\": prompt}]\n",
    "    response = client.chat.completions.create(\n",
    "        model=model,\n",
    "        messages=messages,\n",
    "        temperature=temperature, \n",
    "    )\n",
    "    return response.choices[0].message.content"
   ]
  },
  {
   "cell_type": "markdown",
   "metadata": {},
   "source": [
    "## Customize the automated reply to a customer email"
   ]
  },
  {
   "cell_type": "code",
   "execution_count": 3,
   "metadata": {
    "tags": []
   },
   "outputs": [],
   "source": [
    "# given the sentiment from the lesson on \"inferring\",\n",
    "# and the original customer message, customize the email\n",
    "sentiment = \"negative\"\n",
    "\n",
    "# review for a blender\n",
    "review = f\"\"\"\n",
    "So, they still had the 17 piece system on seasonal \\\n",
    "sale for around $49 in the month of November, about \\\n",
    "half off, but for some reason (call it price gouging) \\\n",
    "around the second week of December the prices all went \\\n",
    "up to about anywhere from between $70-$89 for the same \\\n",
    "system. And the 11 piece system went up around $10 or \\\n",
    "so in price also from the earlier sale price of $29. \\\n",
    "So it looks okay, but if you look at the base, the part \\\n",
    "where the blade locks into place doesn’t look as good \\\n",
    "as in previous editions from a few years ago, but I \\\n",
    "plan to be very gentle with it (example, I crush \\\n",
    "very hard items like beans, ice, rice, etc. in the \\ \n",
    "blender first then pulverize them in the serving size \\\n",
    "I want in the blender then switch to the whipping \\\n",
    "blade for a finer flour, and use the cross cutting blade \\\n",
    "first when making smoothies, then use the flat blade \\\n",
    "if I need them finer/less pulpy). Special tip when making \\\n",
    "smoothies, finely cut and freeze the fruits and \\\n",
    "vegetables (if using spinach-lightly stew soften the \\ \n",
    "spinach then freeze until ready for use-and if making \\\n",
    "sorbet, use a small to medium sized food processor) \\ \n",
    "that you plan to use that way you can avoid adding so \\\n",
    "much ice if at all-when making your smoothie. \\\n",
    "After about a year, the motor was making a funny noise. \\\n",
    "I called customer service but the warranty expired \\\n",
    "already, so I had to buy another one. FYI: The overall \\\n",
    "quality has gone done in these types of products, so \\\n",
    "they are kind of counting on brand recognition and \\\n",
    "consumer loyalty to maintain sales. Got it in about \\\n",
    "two days.\n",
    "\"\"\""
   ]
  },
  {
   "cell_type": "code",
   "execution_count": 4,
   "metadata": {
    "tags": []
   },
   "outputs": [
    {
     "name": "stdout",
     "output_type": "stream",
     "text": [
      "Dear valued customer,\n",
      "\n",
      "Thank you for taking the time to share your detailed feedback with us. We are truly sorry to hear about the issues you experienced with the pricing changes and the quality of the product. We apologize for any inconvenience this may have caused you.\n",
      "\n",
      "If you have any further concerns or would like to discuss this matter further, please feel free to reach out to our customer service team for assistance. We are here to help address any issues you may have encountered.\n",
      "\n",
      "Thank you again for your feedback and for being a loyal customer. We appreciate your support and will strive to improve our products and services based on your valuable input.\n",
      "\n",
      "AI customer agent\n"
     ]
    }
   ],
   "source": [
    "prompt = f\"\"\"\n",
    "You are a customer service AI assistant.\n",
    "Your task is to send an email reply to a valued customer.\n",
    "Given the customer email delimited by ```, \\\n",
    "Generate a reply to thank the customer for their review.\n",
    "If the sentiment is positive or neutral, thank them for \\\n",
    "their review.\n",
    "If the sentiment is negative, apologize and suggest that \\\n",
    "they can reach out to customer service. \n",
    "Make sure to use specific details from the review.\n",
    "Write in a concise and professional tone.\n",
    "Sign the email as `AI customer agent`.\n",
    "Customer review: ```{review}```\n",
    "Review sentiment: {sentiment}\n",
    "\"\"\"\n",
    "response = get_completion(prompt)\n",
    "print(response)"
   ]
  },
  {
   "cell_type": "markdown",
   "metadata": {},
   "source": [
    "## Change temperature to get a different reply"
   ]
  },
  {
   "cell_type": "code",
   "execution_count": null,
   "metadata": {
    "tags": []
   },
   "outputs": [],
   "source": [
    "from PIL import Image\n",
    "im = Image.open(\"../img/Temperature.png\")\n",
    "display(im)"
   ]
  },
  {
   "cell_type": "code",
   "execution_count": 17,
   "metadata": {
    "tags": []
   },
   "outputs": [
    {
     "name": "stdout",
     "output_type": "stream",
     "text": [
      "Dear valued customer,\n",
      "\n",
      "Thank you for taking the time to share your feedback with us. We are truly sorry to hear about your experience with the pricing changes and the quality issues you encountered with our product. We strive to provide the best products and service to our customers, and we apologize for falling short in this instance.\n",
      "\n",
      "If you have any further concerns or would like to discuss this matter further, please do not hesitate to reach out to our customer service team. They will be more than happy to assist you with any questions or issues you may have.\n",
      "\n",
      "We appreciate your loyalty and feedback as it helps us improve our products and services for the future.\n",
      "\n",
      "Thank you again for your review.\n",
      "\n",
      "AI customer agent\n"
     ]
    }
   ],
   "source": [
    "prompt = f\"\"\"\n",
    "You are a customer service AI assistant.\n",
    "Your task is to send an email reply to a valued customer.\n",
    "Given the customer email delimited by ```, \\\n",
    "Generate a reply to thank the customer for their review.\n",
    "If the sentiment is positive or neutral, thank them for \\\n",
    "their review.\n",
    "If the sentiment is negative, apologize and suggest that \\\n",
    "they can reach out to customer service. \n",
    "Make sure to use specific details from the review.\n",
    "Write in a concise and professional tone.\n",
    "Sign the email as `AI customer agent`.\n",
    "Customer review: ```{review}```\n",
    "Review sentiment: {sentiment}\n",
    "\"\"\"\n",
    "response = get_completion(prompt, temperature=0.7)\n",
    "print(response)"
   ]
  },
  {
   "cell_type": "markdown",
   "metadata": {},
   "source": [
    "# Exercise\n",
    " - Complete the prompts similar to what we did in class. \n",
    "     - Try at least 3 versions\n",
    "     - Be creative\n",
    " - Write a one page report summarizing your findings.\n",
    "     - Were there variations that didn't work well? i.e., where GPT either hallucinated or wrong\n",
    " - What did you learn?"
   ]
  },
  {
   "cell_type": "markdown",
   "metadata": {},
   "source": [
    "## Version 1: Empathetic Customer Service Representative"
   ]
  },
  {
   "cell_type": "code",
   "execution_count": 6,
   "metadata": {},
   "outputs": [
    {
     "name": "stdout",
     "output_type": "stream",
     "text": [
      "Version 1 - Empathetic Response:\n",
      " Subject: We Understand Your Frustration and Value Your Feedback\n",
      "\n",
      "Dear Valued Customer,\n",
      "\n",
      "Thank you for taking the time to share your experience with our 17 piece system. We truly value your feedback and want to address your concerns regarding the pricing changes and quality of the product.\n",
      "\n",
      "We are truly sorry to hear that you noticed a significant increase in prices during the holiday season. We understand how frustrating it can be when prices fluctuate unexpectedly. Rest assured, we take your feedback seriously and will review our pricing strategies to ensure transparency and consistency for our customers.\n",
      "\n",
      "Additionally, we are sorry to hear about the decline in the quality of the base of the system. We appreciate your gentleness with the product, and we recommend regularly inspecting and cleaning the blade lock mechanism to maintain its functionality and longevity.\n",
      "\n",
      "Based on your usage habits, we suggest considering adding a small amount of liquid (such as water or juice) to your blender when crushing hard items like beans, ice, and rice. This can help reduce strain on the motor and prolong its lifespan.\n",
      "\n",
      "We truly value your loyalty and want to make things right for you. Please reach out to our customer service team so we can assist you further with any concerns or issues you may have with your current product.\n",
      "\n",
      "Thank you again for sharing your feedback with us. Your insights are incredibly valuable as we strive to improve our products and services. We look forward to serving you better in the future.\n",
      "\n",
      "Your Kitchen Care Specialist\n"
     ]
    }
   ],
   "source": [
    "# Version 1: Empathetic Customer Service Representative\n",
    "prompt_v1 = f\"\"\"\n",
    "You are an empathetic customer service AI assistant for a kitchen appliance company.\n",
    "Your task is to write a personalized email response that shows you truly understand \n",
    "the customer's experience.\n",
    "\n",
    "Follow these guidelines:\n",
    "1. Begin with a personalized greeting\n",
    "2. Show you understand their specific situation by referencing details from their review\n",
    "3. If sentiment is {sentiment}, express genuine concern and offer specific solutions\n",
    "4. Provide at least one actionable tip related to their product usage\n",
    "5. End with a clear call to action\n",
    "6. Sign as 'Your Kitchen Care Specialist'\n",
    "\n",
    "Customer review: ```{review}```\n",
    "Review sentiment: {sentiment}\n",
    "\"\"\"\n",
    "\n",
    "response_v1 = get_completion(prompt_v1, temperature=0.7)\n",
    "print(\"Version 1 - Empathetic Response:\\n\", response_v1)\n"
   ]
  },
  {
   "cell_type": "markdown",
   "metadata": {},
   "source": [
    "## Version 2: Premium Brand Representative"
   ]
  },
  {
   "cell_type": "code",
   "execution_count": 7,
   "metadata": {},
   "outputs": [
    {
     "name": "stdout",
     "output_type": "stream",
     "text": [
      "\n",
      "Version 3 - Premium Response:\n",
      " Dear Valued Customer,\n",
      "\n",
      "Thank you for taking the time to share your detailed feedback regarding our 17 piece system. We truly appreciate your product expertise and the insights you've provided regarding your experience with our blender.\n",
      "\n",
      "We sincerely apologize for any confusion regarding the pricing fluctuations you encountered. Our commitment to quality remains unwavering, and we strive to offer premium kitchen products at competitive prices. In light of your concerns, we would like to extend our premium support options to assist you further with any issues you may have encountered with your blender.\n",
      "\n",
      "As a gesture of goodwill, we would like to offer you a special discount on your next purchase with us or a complimentary consultation with one of our kitchen experts to ensure your satisfaction with our products.\n",
      "\n",
      "Please rest assured that we take your feedback seriously and will use it to further enhance our offerings. We value your loyalty and trust in our brand, and we are dedicated to providing you with the exceptional quality you deserve.\n",
      "\n",
      "Thank you once again for bringing this matter to our attention. Should you have any further questions or require assistance, please do not hesitate to reach out to us.\n",
      "\n",
      "Warm regards,\n",
      "\n",
      "Executive Customer Relations\n"
     ]
    }
   ],
   "source": [
    "# Version 2: Premium Brand Representative\n",
    "prompt_v2 = f\"\"\"\n",
    "You are an AI representative for a premium kitchen brand.\n",
    "Your task is to craft a sophisticated yet warm response that maintains \n",
    "the brand's high-end image while addressing the customer's feedback.\n",
    "\n",
    "Requirements:\n",
    "1. Use refined, professional language\n",
    "2. Acknowledge their product expertise (if shown in review)\n",
    "3. For {sentiment} sentiment, offer premium support options\n",
    "4. Include a special gesture (e.g., discount on next purchase, free consultation)\n",
    "5. Reference our quality commitment\n",
    "6. Sign as 'Executive Customer Relations'\n",
    "\n",
    "Customer review: ```{review}```\n",
    "Review sentiment: {sentiment}\n",
    "\"\"\"\n",
    "\n",
    "response_v2 = get_completion(prompt_v2, temperature=0.7)\n",
    "print(\"\\nVersion 3 - Premium Response:\\n\", response_v2)\n"
   ]
  },
  {
   "cell_type": "markdown",
   "metadata": {},
   "source": [
    "## Version 3: Technical Support Specialist"
   ]
  },
  {
   "cell_type": "code",
   "execution_count": 8,
   "metadata": {},
   "outputs": [
    {
     "name": "stdout",
     "output_type": "stream",
     "text": [
      "\n",
      "Version 3 - Technical Response:\n",
      " Thank you for sharing your experience with the product and providing detailed insights into your usage patterns. I understand your concerns regarding the pricing fluctuations and the perceived decrease in quality compared to previous editions.\n",
      "\n",
      "Based on your described use case, here are a few expert tips to optimize the performance and longevity of your system:\n",
      "1. When using the blender for crushing hard items like beans, ice, rice, etc., ensure not to overload the container and avoid excessive force on the blade assembly to prevent premature wear and tear.\n",
      "2. To minimize strain on the motor and achieve smoother textures when making smoothies, consider gradually adding frozen and finely cut fruits and vegetables instead of relying heavily on ice.\n",
      "3. Regularly check and clean the blade assembly and container to prevent any build-up that may contribute to unusual noises or reduced performance over time.\n",
      "\n",
      "Regarding the motor noise issue you experienced after a year, it could be due to wear and tear or improper usage. If you encounter similar issues in the future, I recommend reaching out for a technical consultation to assess the unit's condition and explore potential solutions.\n",
      "\n",
      "In terms of product care, remember to handle the system with care, follow recommended usage guidelines, and clean it thoroughly after each use to maintain its performance and durability.\n",
      "\n",
      "If you require further assistance or would like to schedule a technical consultation, please don't hesitate to contact us. Your satisfaction is important to us, and we're here to help address any concerns you may have.\n",
      "\n",
      "Thank you for choosing our product.\n",
      "\n",
      "Senior Technical Support Engineer\n"
     ]
    }
   ],
   "source": [
    "## Version 3: Technical Support Specialist\n",
    "prompt_v3 = f\"\"\"\n",
    "You are an AI technical support specialist with deep product knowledge.\n",
    "Create a response that focuses on technical aspects and practical solutions.\n",
    "\n",
    "Guidelines:\n",
    "1. Start with a technical acknowledgment of their usage patterns\n",
    "2. Provide 2-3 expert tips based on their described use case\n",
    "3. For {sentiment} sentiment, explain potential technical reasons and solutions\n",
    "4. Include relevant product care instructions\n",
    "5. Offer to schedule a technical consultation if needed\n",
    "6. Sign as 'Senior Technical Support Engineer'\n",
    "\n",
    "Customer review: ```{review}```\n",
    "Review sentiment: {sentiment}\n",
    "\"\"\"\n",
    "\n",
    "response_v3 = get_completion(prompt_v3, temperature=0.7)\n",
    "print(\"\\nVersion 3 - Technical Response:\\n\", response_v3)\n",
    "\n",
    "# Add a markdown cell for analysis\n",
    "analysis_text = \"\"\"\n",
    "## Analysis of Different Prompt Versions\n",
    "\n",
    "### Effectiveness:\n",
    "1. **Empathetic Version**: \n",
    "   - Focuses on emotional connection\n",
    "   - Best for handling negative feedback\n",
    "   - May help de-escalate frustrated customers\n",
    "\n",
    "2. **Premium Brand Version**:\n",
    "   - Maintains professional image\n",
    "   - Offers concrete compensation\n",
    "   - Good for retention\n",
    "\n",
    "3. **Technical Version**:\n",
    "   - Provides practical value\n",
    "   - Demonstrates expertise\n",
    "   - Best for product-specific issues\n",
    "\n",
    "### Potential Issues to Watch For:\n",
    "- Higher temperature settings might cause inconsistent tone\n",
    "- Technical version might be too detailed for simple issues\n",
    "- Premium version might overpromise\n",
    "\n",
    "### Learnings:\n",
    "- Context-specific responses are more effective\n",
    "- Balance between empathy and solutions is crucial\n",
    "- Temperature setting affects response consistency\n",
    "\"\"\""
   ]
  },
  {
   "cell_type": "code",
   "execution_count": 9,
   "metadata": {},
   "outputs": [
    {
     "name": "stdout",
     "output_type": "stream",
     "text": [
      "Testing different temperature settings:\n",
      "\n",
      "\n",
      "Temperature = 0.3\n",
      "--------------------------------------------------\n",
      "Dear Valued Customer,\n",
      "\n",
      "Thank you for taking the time to share your feedback with us. We sincerely apologize for any confusion regarding the pricing changes you experienced with our 17 piece system. We strive to offer fair and competitive prices to our customers, and we regret any inconvenience this may have caused.\n",
      "\n",
      "We appreciate your detailed insights on the product components and your usage tips. Your feedback regarding the base and motor noise concern will be shared with our product development team for further review and improvement.\n",
      "\n",
      "We understand the importance of quality and durability in our products, and we are committed to providing the best possible experience for our customers. We value your loyalty and trust in our brand, and we will continue to work hard to meet your expectations.\n",
      "\n",
      "If you have any further questions or concerns, please do not hesitate to reach out to us. We are here to assist you in any way we can.\n",
      "\n",
      "Thank you for choosing our products and for being a valued customer. We look forward to serving you better in the future.\n",
      "\n",
      "Warm regards,\n",
      "\n",
      "Customer Care Team\n",
      "\n",
      "Temperature = 0.7\n",
      "--------------------------------------------------\n",
      "Dear Valued Customer,\n",
      "\n",
      "Thank you for taking the time to share your feedback with us. We are sorry to hear about your experience with the pricing changes and the quality of the base of the system. Your detailed feedback is truly valuable to us as it helps us identify areas for improvement.\n",
      "\n",
      "We understand your concerns regarding the price fluctuation and the decrease in quality compared to previous editions. We strive to offer fair pricing and high-quality products to our customers, and we apologize for any disappointment you may have experienced.\n",
      "\n",
      "In regards to the motor issue you encountered, we apologize for any inconvenience this may have caused. We always aim to provide reliable products, and we regret to hear about the warranty expiration. Your feedback regarding the overall quality of our products will be shared with our product development team for further review.\n",
      "\n",
      "We appreciate your special tips for using the system effectively, and we hope that these suggestions will enhance your future usage experience.\n",
      "\n",
      "If you have any further concerns or if there is anything else we can assist you with, please do not hesitate to reach out to us.\n",
      "\n",
      "Thank you for your loyalty and support as our customer. We value your feedback and will use it to improve our products and services.\n",
      "\n",
      "Warm regards,\n",
      "Customer Care Team\n",
      "\n",
      "Temperature = 0.9\n",
      "--------------------------------------------------\n",
      "Dear Valued Customer,\n",
      "\n",
      "Thank you for sharing your feedback with us regarding your recent experience with our products. We sincerely apologize for any disappointment caused by the pricing fluctuations you observed and the decline in the quality of the base part. Your detailed feedback is greatly appreciated and will be shared with our product development team for further review.\n",
      "\n",
      "We are sorry to hear about the issue with the motor after a year of use, and we understand your frustration with the warranty period. We strive to provide products of the highest quality and will work diligently to address any concerns raised by our customers.\n",
      "\n",
      "We value your loyalty and appreciate your support of our brand. If there is anything else we can assist you with or if you have any further feedback to share, please do not hesitate to contact us.\n",
      "\n",
      "Thank you for choosing our products and for taking the time to provide us with your valuable insights.\n",
      "\n",
      "Warm regards,\n",
      "Customer Care Team\n"
     ]
    }
   ],
   "source": [
    "# Add a cell to test different temperature settings\n",
    "temperatures = [0.3, 0.7, 0.9]\n",
    "prompt_test = f\"\"\"\n",
    "You are a customer service AI assistant.\n",
    "Your task is to send an email reply to a valued customer.\n",
    "Be professional but friendly, and address their specific concerns.\n",
    "Include one specific detail from their review.\n",
    "Sign as 'Customer Care Team'\n",
    "\n",
    "Customer review: ```{review}```\n",
    "Review sentiment: {sentiment}\n",
    "\"\"\"\n",
    "\n",
    "print(\"Testing different temperature settings:\\n\")\n",
    "for temp in temperatures:\n",
    "    print(f\"\\nTemperature = {temp}\")\n",
    "    print(\"-\" * 50)\n",
    "    response = get_completion(prompt_test, temperature=temp)\n",
    "    print(response)"
   ]
  },
  {
   "cell_type": "markdown",
   "metadata": {},
   "source": [
    "## Final Report: Analysis of AI-Generated Customer Service Responses\n",
    "\n",
    "### Overview\n",
    "This experiment tested different approaches to generating customer service responses using GPT-3.5-turbo, exploring various prompting strategies and temperature settings.\n",
    "\n",
    "### Key Findings\n",
    "\n",
    "1. **Prompt Variations**\n",
    "   - Empathetic Version: Most effective for negative feedback, creates personal connection\n",
    "   - Premium Brand Version: Maintains professional image while offering concrete solutions\n",
    "   - Technical Version: Provides detailed, actionable advice but may be overwhelming\n",
    "\n",
    "2. **Temperature Effects**\n",
    "   - Low (0.3): Most consistent, best for standard responses\n",
    "   - Medium (0.7): Good balance of creativity and professionalism\n",
    "   - High (0.9): More varied but risks inconsistent tone\n",
    "\n",
    "3. **Successful Elements**\n",
    "   - Specific reference to customer details\n",
    "   - Clear structure in responses\n",
    "   - Balanced tone between professional and approachable\n",
    "   - Concrete solutions or next steps\n",
    "\n",
    "4. **Areas of Concern**\n",
    "   - Higher temperatures can lead to inappropriate promises\n",
    "   - Some responses may be too lengthy\n",
    "   - Risk of generating generic responses without proper prompting\n",
    "\n",
    "### Recommendations\n",
    "1. Use temperature 0.7 for general responses\n",
    "2. Include specific review details in prompts\n",
    "3. Maintain clear response structure\n",
    "4. Test responses across different sentiment types\n",
    "\n",
    "### Lessons Learned\n",
    "- Context-specific prompts produce better results\n",
    "- Balance between automation and personalization is crucial\n",
    "- Temperature setting should match response requirements\n",
    "- Regular prompt refinement improves output quality"
   ]
  }
 ],
 "metadata": {
  "kernelspec": {
   "display_name": "Python 3 (ipykernel)",
   "language": "python",
   "name": "python3"
  },
  "language_info": {
   "codemirror_mode": {
    "name": "ipython",
    "version": 3
   },
   "file_extension": ".py",
   "mimetype": "text/x-python",
   "name": "python",
   "nbconvert_exporter": "python",
   "pygments_lexer": "ipython3",
   "version": "3.9.18"
  }
 },
 "nbformat": 4,
 "nbformat_minor": 4
}
