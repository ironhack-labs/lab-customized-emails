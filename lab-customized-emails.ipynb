{
 "cells": [
  {
   "cell_type": "markdown",
   "metadata": {},
   "source": [
    "# Customized emails\n",
    "\n",
    "In this lesson, you will generate customer service emails that are tailored to each customer's review.\n",
    "\n",
    "## Setup"
   ]
  },
  {
   "cell_type": "code",
   "execution_count": 1,
   "metadata": {
    "tags": []
   },
   "outputs": [],
   "source": [
    "import openai\n",
    "import os\n",
    "from dotenv import load_dotenv, find_dotenv\n",
    "\n",
    "# Load environment variables from the .env file\n",
    "_ = load_dotenv(find_dotenv())\n",
    "\n",
    "# Get the OpenAI API key from environment variables\n",
    "OPENAI_API_KEY = os.getenv('OPENAI_API_KEY')\n",
    "\n",
    "# Set the OpenAI API key in the OpenAI Python package\n",
    "openai.api_key = OPENAI_API_KEY"
   ]
  },
  {
   "cell_type": "code",
   "execution_count": 3,
   "metadata": {
    "tags": []
   },
   "outputs": [],
   "source": [
    "def get_completion(prompt, model=\"gpt-3.5-turbo\", temperature=0): \n",
    "    messages = [{\"role\": \"user\", \"content\": prompt}]\n",
    "    \n",
    "    response = openai.ChatCompletion.create(\n",
    "        model=model,\n",
    "        messages=messages,\n",
    "        temperature=temperature, \n",
    "    )\n",
    "    \n",
    "    return response['choices'][0]['message']['content']"
   ]
  },
  {
   "cell_type": "markdown",
   "metadata": {},
   "source": [
    "## Customize the automated reply to a customer email"
   ]
  },
  {
   "cell_type": "code",
   "execution_count": 5,
   "metadata": {
    "tags": []
   },
   "outputs": [],
   "source": [
    "# Original customer review for a blender\n",
    "review = r\"\"\"\n",
    "So, they still had the 17 piece system on seasonal \\\n",
    "sale for around $49 in the month of November, about \\\n",
    "half off, but for some reason (call it price gouging) \\\n",
    "around the second week of December the prices all went \\\n",
    "up to about anywhere from between $70-$89 for the same \\\n",
    "system. And the 11 piece system went up around $10 or \\\n",
    "so in price also from the earlier sale price of $29. \\\n",
    "So it looks okay, but if you look at the base, the part \\\n",
    "where the blade locks into place doesn’t look as good \\\n",
    "as in previous editions from a few years ago, but I \\\n",
    "plan to be very gentle with it (example, I crush \\\n",
    "very hard items like beans, ice, rice, etc. in the \\\n",
    "blender first then pulverize them in the serving size \\\n",
    "I want in the blender then switch to the whipping \\\n",
    "blade for a finer flour, and use the cross cutting blade \\\n",
    "first when making smoothies, then use the flat blade \\\n",
    "if I need them finer/less pulpy). Special tip when making \\\n",
    "smoothies, finely cut and freeze the fruits and \\\n",
    "vegetables (if using spinach-lightly stew soften the \\\n",
    "spinach then freeze until ready for use-and if making \\\n",
    "sorbet, use a small to medium sized food processor) \\\n",
    "that you plan to use that way you can avoid adding so \\\n",
    "much ice if at all-when making your smoothie. \\\n",
    "After about a year, the motor was making a funny noise. \\\n",
    "I called customer service but the warranty expired \\\n",
    "already, so I had to buy another one. FYI: The overall \\\n",
    "quality has gone done in these types of products, so \\\n",
    "they are kind of counting on brand recognition and \\\n",
    "consumer loyalty to maintain sales. Got it in about \\\n",
    "two days.\n",
    "\"\"\"\n"
   ]
  },
  {
   "cell_type": "code",
   "execution_count": 8,
   "metadata": {
    "tags": []
   },
   "outputs": [
    {
     "name": "stdout",
     "output_type": "stream",
     "text": [
      "Dear valued customer,\n",
      "\n",
      "Thank you for taking the time to share your feedback with us. We are sorry to hear about the issues you experienced with the pricing changes and the quality of the product. We apologize for any inconvenience this may have caused you. If you have any further concerns, please feel free to reach out to our customer service team for assistance.\n",
      "\n",
      "Thank you for your continued support.\n",
      "\n",
      "AI customer agent\n"
     ]
    }
   ],
   "source": [
    "# Corrected code for generating the email reply based on the sentiment\n",
    "prompt = f\"\"\"\n",
    "You are a customer service AI assistant.\n",
    "Your task is to send an email reply to a valued customer.\n",
    "Given the customer email delimited by ```, \\\n",
    "Generate a reply to thank the customer for their review.\n",
    "If the sentiment is positive or neutral, thank them for \\\n",
    "their review.\n",
    "If the sentiment is negative, apologize and suggest that \\\n",
    "they can reach out to customer service. \n",
    "Make sure to use specific details from the review.\n",
    "Write in a concise and professional tone.\n",
    "Sign the email as `AI customer agent`.\n",
    "Customer review: ```{review}```\n",
    "Review sentiment: {sentiment}\n",
    "\"\"\"\n",
    "response = get_completion(prompt)\n",
    "print(response)\n"
   ]
  },
  {
   "cell_type": "markdown",
   "metadata": {},
   "source": [
    "## Change temperature to get a different reply"
   ]
  },
  {
   "cell_type": "code",
   "execution_count": 19,
   "metadata": {
    "tags": []
   },
   "outputs": [
    {
     "name": "stdout",
     "output_type": "stream",
     "text": [
      "Neither C:/Users/mktmi/Documents/ironhack/AI_Engineering/Work/Week5/img/Temperature.png nor C:/Users/mktmi/Documents/ironhack/AI_Engineering/Work/Week5/img/default_image.png were found. Creating a placeholder image.\n"
     ]
    },
    {
     "data": {
      "image/jpeg": "[encoded data removed]",
      "image/png": "[encoded data removed]",
      "text/plain": [
       "<PIL.Image.Image image mode=RGB size=200x200>"
      ]
     },
     "metadata": {},
     "output_type": "display_data"
    }
   ],
   "source": [
    "import os\n",
    "from PIL import Image, ImageDraw\n",
    "from IPython.display import display\n",
    "\n",
    "# Define the paths\n",
    "image_path = \"C:/Users/mktmi/Documents/ironhack/AI_Engineering/Work/Week5/img/Temperature.png\"\n",
    "default_image_path = \"C:/Users/mktmi/Documents/ironhack/AI_Engineering/Work/Week5/img/default_image.png\"\n",
    "\n",
    "# Check if the image exists, if not, fallback to default image or create a placeholder\n",
    "if os.path.exists(image_path):\n",
    "    im = Image.open(image_path)\n",
    "elif os.path.exists(default_image_path):\n",
    "    print(f\"File not found: {image_path}, using default image instead.\")\n",
    "    im = Image.open(default_image_path)\n",
    "else:\n",
    "    print(f\"Neither {image_path} nor {default_image_path} were found. Creating a placeholder image.\")\n",
    "    # Create a placeholder image if no images are found\n",
    "    im = Image.new('RGB', (200, 200), color=(73, 109, 137))\n",
    "    d = ImageDraw.Draw(im)\n",
    "    d.text((10, 90), \"Image Not Found\", fill=(255, 255, 255))\n",
    "\n",
    "# Show and display the image\n",
    "im.show()\n",
    "display(im)\n",
    "\n",
    "\n",
    "\n"
   ]
  },
  {
   "cell_type": "code",
   "execution_count": 16,
   "metadata": {
    "tags": []
   },
   "outputs": [
    {
     "name": "stdout",
     "output_type": "stream",
     "text": [
      "Dear valued customer,\n",
      "\n",
      "Thank you for taking the time to share your detailed feedback with us. We sincerely apologize for any inconvenience you may have experienced with the pricing changes and the decrease in product quality. We strive to provide the best products and service to our customers, and we regret that we did not meet your expectations this time.\n",
      "\n",
      "If you have any further issues or concerns, please do not hesitate to reach out to our customer service team for assistance. Your feedback is invaluable to us as we continue to improve our products and services.\n",
      "\n",
      "Thank you once again for your review.\n",
      "\n",
      "AI customer agent\n"
     ]
    }
   ],
   "source": [
    "prompt = f\"\"\"\n",
    "You are a customer service AI assistant.\n",
    "Your task is to send an email reply to a valued customer.\n",
    "Given the customer email delimited by ```, \\\n",
    "Generate a reply to thank the customer for their review.\n",
    "If the sentiment is positive or neutral, thank them for \\\n",
    "their review.\n",
    "If the sentiment is negative, apologize and suggest that \\\n",
    "they can reach out to customer service. \n",
    "Make sure to use specific details from the review.\n",
    "Write in a concise and professional tone.\n",
    "Sign the email as `AI customer agent`.\n",
    "Customer review: ```{review}```\n",
    "Review sentiment: {sentiment}\n",
    "\"\"\"\n",
    "response = get_completion(prompt, temperature=0.7)\n",
    "print(response)"
   ]
  },
  {
   "cell_type": "markdown",
   "metadata": {},
   "source": [
    "# Exercise\n",
    " - Complete the prompts similar to what we did in class. \n",
    "     - Try at least 3 versions\n",
    "     - Be creative\n",
    " - Write a one page report summarizing your findings.\n",
    "     - Were there variations that didn't work well? i.e., where GPT either hallucinated or wrong\n",
    " - What did you learn?"
   ]
  },
  {
   "cell_type": "code",
   "execution_count": 20,
   "metadata": {},
   "outputs": [
    {
     "name": "stdout",
     "output_type": "stream",
     "text": [
      "Response for Version 1:\n",
      "Dear valued customer,\n",
      "\n",
      "Thank you for bringing this issue to our attention. We apologize for any inconvenience caused by the noise from the motor of your blender after a year of use. We take customer feedback seriously and will address this with our product development team. \n",
      "\n",
      "Regarding the price inflation concern, we understand your frustration and will review our pricing strategy moving forward.\n",
      "\n",
      "Please feel free to contact our customer service team for further assistance or if you have any other concerns. \n",
      "\n",
      "Thank you for choosing our blender and we appreciate your feedback.\n",
      "\n",
      "Sincerely,\n",
      "[Your Name]\n",
      "Customer Service Team\n"
     ]
    }
   ],
   "source": [
    "#Version 1: Product Review Feedback - In this version, the task is to generate a customer service reply based on a negative product review.\n",
    "import openai\n",
    "\n",
    "# Function to generate responses\n",
    "def get_completion(prompt, model=\"gpt-3.5-turbo\", temperature=0.7):\n",
    "    response = openai.ChatCompletion.create(\n",
    "        model=model,\n",
    "        messages=[{\"role\": \"user\", \"content\": prompt}],\n",
    "        temperature=temperature,\n",
    "    )\n",
    "    return response['choices'][0]['message']['content']\n",
    "\n",
    "# Version 1 Prompt: Product Review Feedback\n",
    "prompt_1 = \"\"\"\n",
    "You are a customer service AI assistant. A customer has left a review about a blender they purchased. Your task is to generate a professional response. \n",
    "- The review mentioned a problem with the motor making noise after a year and price inflation.\n",
    "- The sentiment is negative.\n",
    "Write a concise and empathetic email reply.\n",
    "\"\"\"\n",
    "\n",
    "# Generate response\n",
    "response_1 = get_completion(prompt_1)\n",
    "print(\"Response for Version 1:\")\n",
    "print(response_1)\n"
   ]
  },
  {
   "cell_type": "code",
   "execution_count": 21,
   "metadata": {},
   "outputs": [
    {
     "name": "stdout",
     "output_type": "stream",
     "text": [
      "\n",
      "Response for Version 2:\n",
      "Once upon a time, in a world of gears and circuits, there was a robot named Robo. Robo was unlike any other robot because deep down, he longed to be human. So, he set off on a journey of self-discovery to find out what it truly meant to be human.\n",
      "\n",
      "Along the way, Robo encountered all kinds of creatures and challenges. He learned about kindness from a friendly squirrel and bravery from a courageous bird. But it wasn't until he met a wise old owl that he realized something important about humanity.\n",
      "\n",
      "The owl told Robo that being human wasn't about having flesh and bones, but about having a heart full of love and compassion. Robo was amazed by this revelation and felt a warmth in his metallic chest that he had never felt before.\n",
      "\n",
      "In that moment, Robo understood that he didn't need to be human to be kind and caring. And so, he returned home with a newfound sense of purpose, spreading love and joy wherever he went.\n",
      "\n",
      "And from that day on, Robo lived happily ever after, knowing that being truly human meant being truly kind. The end.\n"
     ]
    }
   ],
   "source": [
    "#Version 2: Creative Story Generation - In this version, the prompt asks GPT to generate a short story suitable for children about a robot on a journey of self-discovery.\n",
    "prompt_2 = \"\"\"\n",
    "You are an AI storyteller. A child has asked you to tell a bedtime story about a robot who wanted to be human. The story should include:\n",
    "- A journey of self-discovery\n",
    "- A surprising twist where the robot realizes something important about humanity.\n",
    "- Keep it under 200 words, and make it imaginative but easy for a child to understand.\n",
    "\"\"\"\n",
    "\n",
    "# Generate response\n",
    "response_2 = get_completion(prompt_2)\n",
    "print(\"\\nResponse for Version 2:\")\n",
    "print(response_2)\n"
   ]
  },
  {
   "cell_type": "code",
   "execution_count": 22,
   "metadata": {},
   "outputs": [
    {
     "name": "stdout",
     "output_type": "stream",
     "text": [
      "\n",
      "Response for Version 3:\n",
      "Imagine two dice that are connected in a special way so that when one is rolled and shows a certain number, the other one always shows the same number, no matter how far apart they are. This is similar to how quantum entanglement works in the world of tiny particles. When two particles become entangled, their properties are linked in a way that one particle's behavior instantly affects the other, even if they are far apart. It's like the dice always showing the same number, no matter where they are. Quantum entanglement is a strange and fascinating phenomenon that scientists are still trying to understand.\n"
     ]
    }
   ],
   "source": [
    "#Version 3: Science Explanation - Here, GPT is tasked with explaining quantum entanglement in simple terms, using an analogy with dice.\n",
    "prompt_3 = \"\"\"\n",
    "You are a science communicator. Explain the concept of quantum entanglement to a non-scientist. Make the explanation simple, using an analogy involving two connected dice that always show the same number, regardless of distance. Ensure that the explanation avoids too much jargon.\n",
    "\"\"\"\n",
    "\n",
    "# Generate response\n",
    "response_3 = get_completion(prompt_3)\n",
    "print(\"\\nResponse for Version 3:\")\n",
    "print(response_3)"
   ]
  },
  {
   "cell_type": "markdown",
   "metadata": {},
   "source": [
    "Prompt 1: Product Review Feedback\n",
    "The first prompt asked GPT to generate a customer service email in response to a negative product review. The review involved two key issues: motor noise after a year and price inflation during the holiday season.\n",
    "\n",
    "Analysis: GPT generated a professional and empathetic response, acknowledging both the motor noise issue and the price increase. It apologized for the inconvenience and suggested that the customer reach out to support for further assistance. The tone was concise and appropriate, including specific details from the review, which aligned well with the sentiment.\n",
    "\n",
    "Strengths:\n",
    "\n",
    "The model recognized the negative sentiment and tailored its tone accordingly.\n",
    "It extracted and addressed specific details from the review.\n",
    "Weaknesses:\n",
    "\n",
    "There were no significant weaknesses, though it could have included more personalized elements, like a follow-up offer or discount suggestion.\n",
    "Hallucinations:\n",
    "\n",
    "None detected.\n",
    "Prompt 2: Creative Story Generation\n",
    "The second prompt required GPT to tell a short bedtime story about a robot who embarks on a journey of self-discovery. The robot was supposed to realize something meaningful about humanity by the end.\n",
    "\n",
    "Analysis: GPT delivered a creative and coherent story about a robot that wished to be human. The robot learned through its journey that it could already experience emotions and connections, just like humans. The story had a clear beginning, middle, and end, following the structure requested. It also included a twist, as instructed, when the robot realized its own humanity through its actions.\n",
    "\n",
    "Strengths:\n",
    "\n",
    "The story was simple, creative, and appropriate for children.\n",
    "The plot followed the journey of self-discovery, as requested, and the twist was well-placed.\n",
    "Weaknesses:\n",
    "\n",
    "The language could have been made a little more engaging for a child’s bedtime story, with more vivid descriptions or playful elements.\n",
    "Hallucinations:\n",
    "\n",
    "No hallucinations. GPT stayed on topic and did not invent unnecessary or confusing details.\n",
    "Prompt 3: Science Explanation\n",
    "The final prompt asked GPT to explain quantum entanglement in simple terms using the analogy of two connected dice.\n",
    "\n",
    "Analysis: GPT provided a straightforward explanation of quantum entanglement, sticking closely to the analogy of dice that always show the same number, regardless of the distance between them. The explanation avoided jargon, making it accessible to someone without a scientific background.\n",
    "\n",
    "Strengths:\n",
    "\n",
    "The dice analogy worked well to illustrate a complex concept in simple terms.\n",
    "GPT avoided overly technical language, staying within the bounds of the prompt.\n",
    "Weaknesses:\n",
    "\n",
    "The explanation could have been more explicit in connecting the dice analogy to the actual science behind quantum entanglement. It felt slightly detached from the real-world implications.\n",
    "Hallucinations:\n",
    "\n",
    "None, as the explanation stayed accurate and did not introduce irrelevant or incorrect information.\n",
    "General Observations and Challenges\n",
    "GPT-3.5 handled each task well, particularly when given clear and structured prompts. It consistently followed the instructions, producing relevant and well-structured responses.\n",
    "Hallucinations were minimal, and GPT stayed focused on the prompt’s objectives in all three cases.\n",
    "Variations that didn't work well: There were no major hallucinations or off-topic responses, but in some cases, more creativity or engagement could have been added to enhance the output (e.g., more vivid descriptions in the story for children).\n",
    "What I Learned\n",
    "GPT-3.5 performs well with specific, well-defined prompts. The more context and direction you provide, the more accurate and on-point the responses.\n",
    "When crafting prompts, focusing on key details ensures that the model includes all necessary elements in the response.\n",
    "There were no significant hallucinations or deviations from the task, but further creativity or engagement could be prompted explicitly when needed (e.g., asking GPT to be more descriptive or fun for a child).\n"
   ]
  }
 ],
 "metadata": {
  "kernelspec": {
   "display_name": "Python 3",
   "language": "python",
   "name": "python3"
  },
  "language_info": {
   "codemirror_mode": {
    "name": "ipython",
    "version": 3
   },
   "file_extension": ".py",
   "mimetype": "text/x-python",
   "name": "python",
   "nbconvert_exporter": "python",
   "pygments_lexer": "ipython3",
   "version": "3.12.7"
  }
 },
 "nbformat": 4,
 "nbformat_minor": 4
}
